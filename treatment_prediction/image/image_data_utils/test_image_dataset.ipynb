{
 "cells": [
  {
   "cell_type": "code",
   "execution_count": 1,
   "metadata": {},
   "outputs": [
    {
     "name": "stdout",
     "output_type": "stream",
     "text": [
      "/data6/wuyinjun/image_causal_data/uganda/uganda/UgandaGeoKeyMat.csv\n"
     ]
    }
   ],
   "source": [
    "%load_ext autoreload\n",
    "%autoreload 2\n",
    "data_folder= \"/data6/wuyinjun/image_causal_data/uganda/uganda/\"\n",
    "from image_loader import CausalDataset\n",
    "\n",
    "c_dataset = CausalDataset(data_folder)\n"
   ]
  },
  {
   "cell_type": "code",
   "execution_count": 2,
   "metadata": {},
   "outputs": [
    {
     "data": {
      "text/plain": [
       "{'band1': array([[118, 165, 165, ..., 249, 239, 196],\n",
       "        [154, 187, 199, ..., 199, 170, 144],\n",
       "        [157, 182, 182, ..., 132, 165, 122],\n",
       "        ...,\n",
       "        [231, 193, 154, ..., 237, 219, 204],\n",
       "        [219, 189, 147, ..., 226, 227, 178],\n",
       "        [193, 182, 156, ..., 199, 178, 196]]),\n",
       " 'img_metadata': array([9581, 9582, 9583, 9584, 9585, 9586, 9587, 9588, 9589, 9590, 9591,\n",
       "        9592, 9593, 9594, 9595, 9596, 9597, 9598, 9599, 9600, 9601, 9602,\n",
       "        9603, 9604, 9605, 9606, 9607, 9608, 9609, 9610, 9611, 9612, 9613,\n",
       "        9614, 9615, 9616, 9617, 9618, 9619, 9620, 9621, 9622, 9623, 9624,\n",
       "        9625, 9626, 9627, 9628, 9629, 9630, 9631, 9632, 9633, 9634, 9635,\n",
       "        9636, 9637, 9638, 9639, 9640, 9641, 9642, 9643, 9644, 9645, 9646,\n",
       "        9647, 9648, 9649, 9650, 9651, 9652, 9653, 9654, 9655, 9656, 9657,\n",
       "        9658, 9659, 9660, 9661, 9662, 9663, 9664, 9665, 9666, 9667, 9668,\n",
       "        9669, 9670, 9671, 9672, 9673, 9674, 9675, 9676, 9677, 9678, 9679,\n",
       "        9680, 9681, 9682, 9683, 9684, 9685, 9686, 9687, 9688, 9689, 9690,\n",
       "        9691, 9692, 9693, 9694, 9695, 9696, 9697, 9698, 9699, 9700, 9701,\n",
       "        9702, 9703, 9704, 9705, 9706, 9707, 9708, 9709, 9710, 9711, 9712,\n",
       "        9713, 9714, 9715, 9716, 9717, 9718, 9719, 9720, 9721, 9722, 9723,\n",
       "        9724, 9725, 9726, 9727, 9728, 9729, 9730, 9731, 9732, 9733, 9734,\n",
       "        9735, 9736, 9737, 9738, 9739, 9740, 9741, 9742, 9743, 9744, 9745,\n",
       "        9746, 9747, 9748, 9749, 9750, 9751, 9752, 9753, 9754, 9755, 9756,\n",
       "        9757, 9758, 9759, 9760, 9761, 9762, 9763, 9764, 9765, 9766, 9767,\n",
       "        9768, 9769, 9770, 9771, 9772, 9773, 9774, 9775, 9776, 9777, 9778,\n",
       "        9779, 9780, 9781, 9782, 9783, 9784, 9785, 9786, 9787, 9788, 9789,\n",
       "        9790, 9791, 9792, 9793, 9794, 9795, 9796, 9797, 9798, 9799, 9800,\n",
       "        9801, 9802, 9803, 9804, 9805, 9806, 9807, 9808, 9809, 9810, 9811,\n",
       "        9812, 9813, 9814, 9815, 9816, 9817, 9818, 9819, 9820, 9821, 9822,\n",
       "        9823, 9824, 9825, 9826, 9827, 9828, 9829, 9830, 9831, 9832, 9833,\n",
       "        9834, 9835, 9836, 9837, 9838, 9839, 9840, 9841, 9842, 9843, 9844,\n",
       "        9845, 9846, 9847, 9848, 9849, 9850, 9851, 9852, 9853, 9854, 9855,\n",
       "        9856, 9857, 9858, 9859, 9860, 9861, 9862, 9863, 9864, 9865, 9866,\n",
       "        9867, 9868, 9869, 9870, 9871, 9872, 9873, 9874, 9875, 9876, 9877,\n",
       "        9878, 9879, 9880, 9881, 9882, 9883, 9884, 9885, 9886, 9887, 9888,\n",
       "        9889, 9890, 9891, 9892, 9893, 9894, 9895, 9896, 9897, 9898, 9899,\n",
       "        9900, 9901, 9902, 9903, 9904, 9905, 9906, 9907, 9908, 9909, 9910,\n",
       "        9911, 9912, 9913, 9914, 9915, 9916, 9917, 9918, 9919, 9920, 9921,\n",
       "        9922, 9923, 9924, 9925, 9926, 9927, 9928, 9929, 9930, 9931]),\n",
       " 'band2': array([[122, 188, 194, ..., 219, 198, 143],\n",
       "        [199, 221, 221, ..., 190, 149, 129],\n",
       "        [218, 227, 203, ..., 154, 192, 143],\n",
       "        ...,\n",
       "        [231, 203, 157, ..., 220, 203, 198],\n",
       "        [218, 190, 165, ..., 220, 233, 198],\n",
       "        [182, 186, 179, ..., 194, 190, 225]]),\n",
       " 'band3': array([[ 75, 158, 139, ..., 239, 214, 125],\n",
       "        [148, 192, 192, ..., 194, 134,  92],\n",
       "        [173, 192, 166, ..., 116, 178,  98],\n",
       "        ...,\n",
       "        [224, 188, 134, ..., 217, 199, 190],\n",
       "        [205, 171, 142, ..., 210, 222, 151],\n",
       "        [151, 169, 171, ..., 178, 143, 200]]),\n",
       " 'Unnamed: 0': 1130,\n",
       " 'MERGE_ID': 30320102,\n",
       " 'P_02_ID': 30320102,\n",
       " 'geo_long_center': 30.8269141590606,\n",
       " 'geo_lat_center': 3.11410589278992,\n",
       " 'PNAME_VALUE': 'ANZU',\n",
       " 'SNAME_2002': 'ADUMI',\n",
       " 'geolocated_failed': False,\n",
       " 'dist_geolocation': 7740.09259221203,\n",
       " 'geo_long': 30.7960486,\n",
       " 'geo_lat': 3.0517797,\n",
       " 'key': 1}"
      ]
     },
     "execution_count": 2,
     "metadata": {},
     "output_type": "execute_result"
    }
   ],
   "source": [
    "c_dataset[0]"
   ]
  },
  {
   "cell_type": "code",
   "execution_count": 1,
   "metadata": {},
   "outputs": [],
   "source": [
    "import numpy as np\n",
    "image_data = np.load(\"/data6/wuyinjun/image_causal_data/uganda/images.npy\")"
   ]
  },
  {
   "cell_type": "code",
   "execution_count": 5,
   "metadata": {},
   "outputs": [
    {
     "name": "stdout",
     "output_type": "stream",
     "text": [
      "(351, 351, 3, 3142)\n"
     ]
    }
   ],
   "source": [
    "print(image_data.shape)\n"
   ]
  },
  {
   "cell_type": "code",
   "execution_count": 16,
   "metadata": {},
   "outputs": [
    {
     "data": {
      "text/plain": [
       "27367.5778979434"
      ]
     },
     "execution_count": 16,
     "metadata": {},
     "output_type": "execute_result"
    }
   ],
   "source": [
    "np.linalg.norm(image_data[:,:,:,0] - image_data[:,:,:,5])"
   ]
  },
  {
   "cell_type": "code",
   "execution_count": 6,
   "metadata": {},
   "outputs": [],
   "source": [
    "import pandas as pd\n",
    "import os\n",
    "data_folder = \"/data6/wuyinjun/image_causal_data/uganda/\"\n",
    "features = pd.read_csv(os.path.join(data_folder, \"X.csv\"))\n",
    "\n"
   ]
  },
  {
   "cell_type": "code",
   "execution_count": 7,
   "metadata": {},
   "outputs": [
    {
     "name": "stdout",
     "output_type": "stream",
     "text": [
      "      Unnamed: 0  V1  V2  V3        V4        V5  V6  V7\n",
      "0              1   1   0   0 -0.298010 -0.298010   0   0\n",
      "1              2   1   0   0 -0.298010 -0.298010   1   1\n",
      "2              3   1   1   1 -0.298010 -0.298010   1   1\n",
      "3              4   1   1   1 -0.298010 -0.298010   1   1\n",
      "4              5   0   1   0 -0.230137  0.000000   0   0\n",
      "...          ...  ..  ..  ..       ...       ...  ..  ..\n",
      "2077        2078   0   0   0 -0.592921  0.000000   1   0\n",
      "2078        2079   1   1   1 -0.116657 -0.116657   0   0\n",
      "2079        2080   1   1   1 -0.205216 -0.205216   1   1\n",
      "2080        2081   1   1   1 -0.116657 -0.116657   0   0\n",
      "2081        2082   1   1   1 -0.116657 -0.116657   0   0\n",
      "\n",
      "[2082 rows x 8 columns]\n"
     ]
    }
   ],
   "source": [
    "print(features)"
   ]
  },
  {
   "cell_type": "code",
   "execution_count": 15,
   "metadata": {},
   "outputs": [
    {
     "name": "stdout",
     "output_type": "stream",
     "text": [
      "3676\n"
     ]
    }
   ],
   "source": [
    "image_array = pd.read_csv(os.path.join(data_folder, \"FullImageArray.csv\"))\n",
    "print(len(image_array.columns))"
   ]
  },
  {
   "cell_type": "code",
   "execution_count": 45,
   "metadata": {},
   "outputs": [
    {
     "name": "stdout",
     "output_type": "stream",
     "text": [
      "      Unnamed: 0         x\n",
      "0              1 -0.881562\n",
      "1              2 -0.881562\n",
      "2              3 -0.881562\n",
      "3              4 -0.881562\n",
      "4              5 -0.881562\n",
      "...          ...       ...\n",
      "2077        2078  2.098803\n",
      "2078        2079  1.103810\n",
      "2079        2080  1.826636\n",
      "2080        2081 -0.881562\n",
      "2081        2082  1.930306\n",
      "\n",
      "[2082 rows x 2 columns]\n"
     ]
    }
   ],
   "source": [
    "image_key_array = pd.read_csv(os.path.join(data_folder, \"obsY.csv\"))\n",
    "print(image_key_array) \n"
   ]
  },
  {
   "cell_type": "code",
   "execution_count": 22,
   "metadata": {},
   "outputs": [
    {
     "name": "stdout",
     "output_type": "stream",
     "text": [
      "     Unnamed: 0    x\n",
      "0             1    1\n",
      "1             2    2\n",
      "2             3    3\n",
      "3             4    4\n",
      "4             5    5\n",
      "..          ...  ...\n",
      "322         323  327\n",
      "323         324  328\n",
      "324         325  329\n",
      "325         326  330\n",
      "326         327  331\n",
      "\n",
      "[327 rows x 2 columns]\n"
     ]
    }
   ],
   "source": [
    "print(image_key_array)"
   ]
  },
  {
   "cell_type": "code",
   "execution_count": 9,
   "metadata": {},
   "outputs": [
    {
     "name": "stdout",
     "output_type": "stream",
     "text": [
      "      Unnamed: 0    x\n",
      "0              1  296\n",
      "1              2  296\n",
      "2              3  296\n",
      "3              4  296\n",
      "4              5  302\n",
      "...          ...  ...\n",
      "2077        2078   50\n",
      "2078        2079   50\n",
      "2079        2080   50\n",
      "2080        2081   50\n",
      "2081        2082   50\n",
      "\n",
      "[2082 rows x 2 columns]\n"
     ]
    }
   ],
   "source": [
    "obs_key_array = pd.read_csv(os.path.join(data_folder, \"KeysOfObservations.csv\"))\n",
    "print(obs_key_array)"
   ]
  },
  {
   "cell_type": "code",
   "execution_count": 8,
   "metadata": {},
   "outputs": [
    {
     "name": "stdout",
     "output_type": "stream",
     "text": [
      "     Unnamed: 0    x\n",
      "0             1    1\n",
      "1             2    2\n",
      "2             3    3\n",
      "3             4    4\n",
      "4             5    5\n",
      "..          ...  ...\n",
      "322         323  327\n",
      "323         324  328\n",
      "324         325  329\n",
      "325         326  330\n",
      "326         327  331\n",
      "\n",
      "[327 rows x 2 columns]\n"
     ]
    }
   ],
   "source": [
    "obs_image_array = pd.read_csv(\"/data6/wuyinjun/image_causal_data/uganda/KeysOfImages.csv\")\n",
    "print(obs_image_array)"
   ]
  },
  {
   "cell_type": "code",
   "execution_count": 34,
   "metadata": {},
   "outputs": [
    {
     "name": "stdout",
     "output_type": "stream",
     "text": [
      "    Unnamed: 0    x\n",
      "10          11  301\n",
      "11          12  301\n",
      "12          13  285\n",
      "13          14  285\n",
      "14          15  285\n",
      "15          16  285\n",
      "16          17  285\n",
      "17          18  285\n",
      "18          19  305\n",
      "19          20  305\n"
     ]
    }
   ],
   "source": [
    "print(obs_key_array.iloc[10:20])"
   ]
  },
  {
   "cell_type": "code",
   "execution_count": 42,
   "metadata": {},
   "outputs": [
    {
     "name": "stdout",
     "output_type": "stream",
     "text": [
      "0.0\n"
     ]
    }
   ],
   "source": [
    "print(np.linalg.norm(image_data[:,:,:,11] - image_data[:,:,:,14]))"
   ]
  },
  {
   "cell_type": "code",
   "execution_count": null,
   "metadata": {},
   "outputs": [],
   "source": [
    "print()"
   ]
  },
  {
   "cell_type": "code",
   "execution_count": null,
   "metadata": {},
   "outputs": [],
   "source": [
    "processed_data = pd.read_csv(\"/data6/wuyinjun/image_causal_data/uganda/uganda/UgandaDataProcessed.csv\")\n"
   ]
  },
  {
   "cell_type": "code",
   "execution_count": 21,
   "metadata": {},
   "outputs": [
    {
     "name": "stdout",
     "output_type": "stream",
     "text": [
      "Index(['MERGE_ID', 'X', 'P_02_ID.x', 'geo_long_center', 'geo_lat_center',\n",
      "       'PNAME_VALUE', 'SNAME_2002', 'geolocated_failed', 'dist_geolocation',\n",
      "       'geo_long',\n",
      "       ...\n",
      "       'human_capital_index_e', 'comp1', 'comp2', 'comp3', 'comp4', 'new',\n",
      "       'Wobs', 'Yobs', 'unique_id', 'geo_long_lat_key'],\n",
      "      dtype='object', length=6011)\n",
      "342\n"
     ]
    }
   ],
   "source": [
    "print(processed_data.columns)\n",
    "print(len(processed_data[\"MERGE_ID\"].unique()))"
   ]
  }
 ],
 "metadata": {
  "kernelspec": {
   "display_name": "pyenv2",
   "language": "python",
   "name": "python3"
  },
  "language_info": {
   "codemirror_mode": {
    "name": "ipython",
    "version": 3
   },
   "file_extension": ".py",
   "mimetype": "text/x-python",
   "name": "python",
   "nbconvert_exporter": "python",
   "pygments_lexer": "ipython3",
   "version": "3.8.10"
  },
  "orig_nbformat": 4,
  "vscode": {
   "interpreter": {
    "hash": "d7edfc12edf23d04e14133e61de4fea84e7a1127629723b8a14798f7b33b14da"
   }
  }
 },
 "nbformat": 4,
 "nbformat_minor": 2
}
