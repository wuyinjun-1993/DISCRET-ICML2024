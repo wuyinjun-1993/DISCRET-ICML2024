{
 "cells": [
  {
   "cell_type": "code",
   "execution_count": 8,
   "metadata": {},
   "outputs": [
    {
     "name": "stdout",
     "output_type": "stream",
     "text": [
      "/home/wuyinjun/Scallop-EHR/treatment_prediction/experiment_postprocessing\n",
      "/home/wuyinjun/Scallop-EHR/treatment_prediction/tabular\n",
      "/data6/wuyinjun/causal_tabular/ihdp/logs/output_1.txt\n",
      "best epoch:  279\n",
      "/data6/wuyinjun/causal_tabular/ihdp/logs/output_2.txt\n",
      "best epoch:  143\n",
      "/data6/wuyinjun/causal_tabular/ihdp/logs/output_3.txt\n",
      "best epoch:  152\n",
      "/data6/wuyinjun/causal_tabular/ihdp/logs/output_4.txt\n",
      "best epoch:  246\n",
      "/data6/wuyinjun/causal_tabular/ihdp/logs/output_5.txt\n",
      "best epoch:  200\n",
      "/data6/wuyinjun/causal_tabular/ihdp/logs/output_6.txt\n",
      "best epoch:  54\n",
      "/data6/wuyinjun/causal_tabular/ihdp/logs/output_7.txt\n",
      "best epoch:  59\n",
      "/data6/wuyinjun/causal_tabular/ihdp/logs/output_8.txt\n",
      "best epoch:  148\n",
      "/data6/wuyinjun/causal_tabular/ihdp/logs/output_9.txt\n",
      "best epoch:  140\n",
      "/data6/wuyinjun/causal_tabular/ihdp/logs/output_10.txt\n",
      "best epoch:  28\n"
     ]
    }
   ],
   "source": [
    "import os\n",
    "log_folder = \"/data6/wuyinjun/causal_tabular/ihdp/logs/\"\n",
    "\n",
    "repeat_times=11\n",
    "\n",
    "curr_dir = str(globals()[\"_dh\"][0])\n",
    "print(curr_dir)\n",
    "os.chdir(os.path.dirname(curr_dir) + \"/tabular/\")\n",
    "print(os.getcwd())\n",
    "bast_epoch_prefix = \"best performance at epoch\"\n",
    "for i in range(1, repeat_times):\n",
    "    curr_log_file = os.path.join(log_folder, \"output_{}.txt\".format(i))\n",
    "    if not os.path.exists(curr_log_file):\n",
    "        continue\n",
    "    with open(curr_log_file, \"r\") as f:\n",
    "        lines = f.readlines()\n",
    "        best_epoch=-1\n",
    "        for line in lines:\n",
    "            if line.startswith(bast_epoch_prefix):\n",
    "                best_epoch = int(line.split(bast_epoch_prefix)[1].strip())\n",
    "        \n",
    "        src_file = os.path.join(log_folder, str(i), \"model_\" + str(best_epoch))\n",
    "        target_file = os.path.join(log_folder, str(i), \"model_best\")\n",
    "        if not os.path.exists(target_file):\n",
    "            os.symlink(src_file, target_file)\n",
    "        print(curr_log_file)\n",
    "        print(\"best epoch: \", best_epoch)\n",
    "    # cmd=\"python train_tabular_rl.py --num_treatments 2 --dataset_name synthetic --batch_size 256 --lr 1e-3 --topk_act 1 --program_max_len 4  --model_config configs/configs_ihdp.yaml --method ours --dataset_id \" + str(i) \\\n",
    "    #      + \" --log_folder \" + log_folder + \"--is_log --cached_model_name \" + os.path.join(log_folder, str(i), \"model_\" + str(best_epoch)) + \" --method_two\"\n",
    "    # print(cmd)\n",
    "    # # os.system(cmd)\n",
    "    # output = os.popen(cmd).read()\n",
    "    # print(output)\n",
    "    \n"
   ]
  },
  {
   "cell_type": "code",
   "execution_count": 3,
   "metadata": {},
   "outputs": [
    {
     "name": "stdout",
     "output_type": "stream",
     "text": [
      "total 12\n",
      "-rw-rw-r-- 1 wuyinjun wuyinjun 2800 Sep 20 15:23 explanation_evaluations.ipynb\n",
      "-rw-rw-r-- 1 wuyinjun wuyinjun 4260 Sep 20 01:23 extract_result.ipynb\n",
      "\n"
     ]
    }
   ],
   "source": [
    "import os\n",
    "output = os.popen(\"ls -l\").read()\n",
    "print(output)\n"
   ]
  }
 ],
 "metadata": {
  "kernelspec": {
   "display_name": "pyenv2",
   "language": "python",
   "name": "python3"
  },
  "language_info": {
   "codemirror_mode": {
    "name": "ipython",
    "version": 3
   },
   "file_extension": ".py",
   "mimetype": "text/x-python",
   "name": "python",
   "nbconvert_exporter": "python",
   "pygments_lexer": "ipython3",
   "version": "3.8.10"
  },
  "orig_nbformat": 4,
  "vscode": {
   "interpreter": {
    "hash": "d7edfc12edf23d04e14133e61de4fea84e7a1127629723b8a14798f7b33b14da"
   }
  }
 },
 "nbformat": 4,
 "nbformat_minor": 2
}
